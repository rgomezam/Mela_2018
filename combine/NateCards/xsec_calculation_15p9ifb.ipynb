{
 "cells": [
  {
   "cell_type": "code",
   "execution_count": null,
   "metadata": {
    "collapsed": true,
    "deletable": true,
    "editable": true
   },
   "outputs": [],
   "source": [
    "from math import sqrt"
   ]
  },
  {
   "cell_type": "code",
   "execution_count": null,
   "metadata": {
    "collapsed": false,
    "deletable": true,
    "editable": true
   },
   "outputs": [],
   "source": [
    "ss = {\n",
    "    'tot' : 1.00737,\n",
    "    'eeee' : 1.02863,\n",
    "    'eemm' : 1.0231,\n",
    "    'mmmm' : 0.988746,\n",
    "}\n",
    "eTotUp = {\n",
    "    'tot' : 0.0729024,\n",
    "    'eeee' : 0.172961,\n",
    "    'eemm' : 0.0994294,\n",
    "    'mmmm' : 0.101139,\n",
    "}\n",
    "eTotDn = {\n",
    "    'tot' : 0.0682012,\n",
    "    'eeee' : 0.151291,\n",
    "    'eemm' : 0.0919217,\n",
    "    'mmmm' : 0.0941292,\n",
    "}\n",
    "eStatUp = {\n",
    "    'tot' : 0.0534915,\n",
    "    'eeee' : 0.127823,\n",
    "    'eemm' : 0.0772758,\n",
    "    'mmmm' : 0.094093,\n",
    "}\n",
    "eStatDn = {\n",
    "    'tot' : 0.0516715,\n",
    "    'eeee' : 0.118341,\n",
    "    'eemm' : 0.0735047,\n",
    "    'mmmm' : 0.088521,\n",
    "}\n",
    "\n",
    "eSystUp = {c:sqrt(eTotUp[c]**2 - eStatUp[c]**2) for c in ss}\n",
    "eSystDn = {c:sqrt(eTotDn[c]**2 - eStatDn[c]**2) for c in ss}\n",
    "\n",
    "# fractional error\n",
    "eStatUp = {c:n/ss[c] for c,n in eStatUp.iteritems()}\n",
    "eStatDn = {c:n/ss[c] for c,n in eStatDn.iteritems()}\n",
    "eSystUp = {c:n/ss[c] for c,n in eSystUp.iteritems()}\n",
    "eSystDn = {c:n/ss[c] for c,n in eSystDn.iteritems()}"
   ]
  },
  {
   "cell_type": "code",
   "execution_count": null,
   "metadata": {
    "collapsed": true,
    "deletable": true,
    "editable": true
   },
   "outputs": [],
   "source": [
    "_xsFid = 7.57*1.1+1.00*1.7 # sigma_qq * k_qq + sigma_gg * k_gg (single channel)\n",
    "xsFid = {\n",
    "    'tot' : _xsFid * 4.,\n",
    "    'eeee' : _xsFid,\n",
    "    'eemm' : _xsFid * 2.,\n",
    "    'mmmm' : _xsFid,\n",
    "}"
   ]
  },
  {
   "cell_type": "code",
   "execution_count": null,
   "metadata": {
    "collapsed": false,
    "deletable": true,
    "editable": true
   },
   "outputs": [],
   "source": [
    "xsFMeas = {c:xsFid[c] * s for c,s in ss.iteritems()}\n",
    "xsFStatUp = {c:xsFMeas[c]*eStatUp[c] for c in ss}\n",
    "xsFStatDn = {c:xsFMeas[c]*eStatDn[c] for c in ss}\n",
    "xsFSystUp = {c:xsFMeas[c]*eSystUp[c] for c in ss}\n",
    "xsFSystDn = {c:xsFMeas[c]*eSystDn[c] for c in ss}\n",
    "xsFLumi = {c:xsFMeas[c] * 0.062 for c in ss}"
   ]
  },
  {
   "cell_type": "code",
   "execution_count": null,
   "metadata": {
    "collapsed": false,
    "deletable": true,
    "editable": true
   },
   "outputs": [],
   "source": [
    "xsFTemp = (\"{chan} Fiducial: {mv:.2f} _{{-{stDn:.2f}}}^{{+{stUp:.2f}}} \\stat \"\n",
    "           \"_{{-{syDn:.2f}}}^{{+{syUp:.2f}}} \\syst \\pm {lum:.2f} \\lumi \\unit{{fb}}\")\n",
    "for c in ss:\n",
    "    printDict = {\n",
    "        'chan' : c,\n",
    "        'mv' : xsFMeas[c],\n",
    "        'stUp' : xsFStatUp[c],\n",
    "        'stDn' : xsFStatDn[c],\n",
    "        'syUp' : xsFSystUp[c],\n",
    "        'syDn' : xsFSystDn[c],\n",
    "        'lum' : xsFLumi[c],\n",
    "    }\n",
    "    print xsFTemp.format(**printDict)"
   ]
  },
  {
   "cell_type": "code",
   "execution_count": null,
   "metadata": {
    "collapsed": true,
    "deletable": true,
    "editable": true
   },
   "outputs": [],
   "source": [
    "xsTot = (14.97+30.10+14.85)*1.1 + (1.54+3.08+1.54)*1.7\n",
    "zllbr = 0.03366\n",
    "xsTot /= (2.*zllbr)**2\n",
    "eTheoUp = sqrt(0.0188552**2. + 0.0148148**2.)\n",
    "eTheoDn = sqrt(0.0161616**2. + 0.0148148**2.)"
   ]
  },
  {
   "cell_type": "code",
   "execution_count": null,
   "metadata": {
    "collapsed": false,
    "deletable": true,
    "editable": true
   },
   "outputs": [],
   "source": [
    "t = 'tot'\n",
    "xsTotMeas = xsTot * ss[t]\n",
    "xsTotStatUp = xsTotMeas*eStatUp[t]\n",
    "xsTotStatDn = xsTotMeas*eStatDn[t]\n",
    "xsTotSystUp = xsTotMeas*eSystUp[t]\n",
    "xsTotSystDn = xsTotMeas*eSystDn[t]\n",
    "xsTotTheoUp = xsTot*eTheoUp\n",
    "xsTotTheoDn = xsTot*eTheoDn\n",
    "xsTotLumi = xsTotMeas*0.062"
   ]
  },
  {
   "cell_type": "code",
   "execution_count": null,
   "metadata": {
    "collapsed": false,
    "deletable": true,
    "editable": true
   },
   "outputs": [],
   "source": [
    "xsTotTemp = (\"Total Cross Section: {mv:.2f} _{{-{stDn:.2f}}}^{{+{stUp:.2f}}} \\\\stat \"\n",
    "             \"_{{-{syDn:.2f}}}^{{+{syUp:.2f}}} \\\\syst \"\n",
    "             \"_{{-{thUp:.2f}}}^{{+{thDn:.2f}}} \\\\theo \"\n",
    "             \"\\\\pm {lum:.2f} \\lumi \\unit{{pb}}\")\n",
    "printDict = {\n",
    "    'mv' : xsTotMeas,\n",
    "    'stUp' : xsTotStatUp,\n",
    "    'stDn' : xsTotStatDn,\n",
    "    'syUp' : xsTotSystUp,\n",
    "    'syDn' : xsTotSystDn,\n",
    "    'thUp' : xsTotTheoUp,\n",
    "    'thDn' : xsTotTheoDn,\n",
    "    'lum' : xsTotLumi,\n",
    "}\n",
    "\n",
    "for s in printDict:\n",
    "    printDict[s] /= 1000. # fb -> pb\n",
    "\n",
    "print xsTotTemp.format(**printDict)"
   ]
  },
  {
   "cell_type": "code",
   "execution_count": null,
   "metadata": {
    "collapsed": true,
    "deletable": true,
    "editable": true
   },
   "outputs": [],
   "source": []
  }
 ],
 "metadata": {
  "kernelspec": {
   "display_name": "Python 2",
   "language": "python",
   "name": "python2"
  },
  "language_info": {
   "codemirror_mode": {
    "name": "ipython",
    "version": 2
   },
   "file_extension": ".py",
   "mimetype": "text/x-python",
   "name": "python",
   "nbconvert_exporter": "python",
   "pygments_lexer": "ipython2",
   "version": "2.7.11"
  }
 },
 "nbformat": 4,
 "nbformat_minor": 2
}
